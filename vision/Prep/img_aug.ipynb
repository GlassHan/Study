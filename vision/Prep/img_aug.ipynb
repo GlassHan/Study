{
 "cells": [
  {
   "cell_type": "code",
   "execution_count": 5,
   "metadata": {},
   "outputs": [],
   "source": [
    "import os\n",
    "from PIL import Image\n",
    "\n",
    "def augment_flip_images(train_folder, augmented_folder):\n",
    "\n",
    "    if not os.path.exists(augmented_folder):\n",
    "        os.makedirs(augmented_folder)\n",
    "\n",
    "    image_list=os.listdir(train_folder)\n",
    "    files=[file for file in image_list if file.endswith(\".png\")]\n",
    "    for image_name in files:\n",
    "        image_path = os.path.join(train_folder, image_name)\n",
    "\n",
    "        # Open image\n",
    "        try:\n",
    "            with Image.open(image_path) as img:\n",
    "                # Ensure image is in RGB mode\n",
    "                img = img.convert(\"RGB\")\n",
    "\n",
    "                # Save original image\n",
    "                # img.save(os.path.join(augmented_folder, image_name[:-4]+'.png'))\n",
    "\n",
    "                # 좌우 반전\n",
    "                flipped_left_right = img.transpose(Image.FLIP_LEFT_RIGHT)\n",
    "                flip1=f\"{os.path.splitext(image_name)[0]}_lr_flip.png\"\n",
    "                flipped_left_right.save(os.path.join(augmented_folder, flip1))\n",
    "                # 상하 반전\n",
    "                flipped_top_bottom = img.transpose(Image.FLIP_TOP_BOTTOM)\n",
    "                flip2=f\"{os.path.splitext(image_name)[0]}_td_flip.png\"\n",
    "                flipped_top_bottom.save(os.path.join(augmented_folder, flip2))\n",
    "\n",
    "            print(f\"Processed {image_name}\")\n",
    "\n",
    "        except Exception as e:\n",
    "            print(f\"Error processing {image_name}: {e}\")\n"
   ]
  },
  {
   "cell_type": "code",
   "execution_count": 4,
   "metadata": {},
   "outputs": [],
   "source": [
    "def augment_rotate_images(train_folder, augmented_folder):\n",
    "\n",
    "    if not os.path.exists(augmented_folder):\n",
    "        os.makedirs(augmented_folder)\n",
    "\n",
    "    # Iterate through all images in the train folder\n",
    "    image_list=os.listdir(train_folder)\n",
    "    files=[file for file in image_list if file.endswith(\".png\")]\n",
    "    for image_name in files:\n",
    "        image_path = os.path.join(train_folder, image_name)\n",
    "\n",
    "        # Open image\n",
    "        try:\n",
    "            with Image.open(image_path) as img:\n",
    "                # Ensure image is in RGB mode\n",
    "                img = img.convert(\"RGB\")\n",
    "\n",
    "                # Save original image\n",
    "                # img.save(os.path.join(augmented_folder, image_name[:-4]+'.png'))\n",
    "\n",
    "                # Rotate and save images\n",
    "                for angle in [90, 180, 270]:\n",
    "                    rotated_img = img.rotate(angle)\n",
    "                    # Append rotation angle to the file name\n",
    "                    new_image_name = f\"{os.path.splitext(image_name)[0]}_{angle}.png\"\n",
    "                    rotated_img.save(os.path.join(augmented_folder, new_image_name))\n",
    "\n",
    "            print(f\"Processed {image_name}\")\n",
    "\n",
    "        except Exception as e:\n",
    "            print(f\"Error processing {image_name}: {e}\")"
   ]
  },
  {
   "cell_type": "code",
   "execution_count": 7,
   "metadata": {},
   "outputs": [
    {
     "name": "stdout",
     "output_type": "stream",
     "text": [
      "Processed 20241227_111923_1_26.png\n",
      "Processed 20241227_111923_1_34.png\n",
      "Processed 20241227_112103_1_35.png\n",
      "Processed 20241227_111932_1_18.png\n",
      "Processed 20241227_112002_1_18.png\n"
     ]
    }
   ],
   "source": [
    "\n",
    "# Specify paths\n",
    "train_folder = r\"H:\\AI-Data\\New_Rule\\taegwang\\fitting_valve\\241023 BMT_gRAND vISION_naming\\outside_anomaly\\JST_offer_good\" # Path to the folder containing original train images\n",
    "augmented_folder = \"E:/Git/Hyper/anomaly_detection/data/sheat/normal_stain/flip\"  # Path to save augmented images\n",
    "\n",
    "# Run augmentation\n",
    "augment_flip_images(train_folder, train_folder)\n"
   ]
  },
  {
   "cell_type": "code",
   "execution_count": 8,
   "metadata": {},
   "outputs": [
    {
     "name": "stdout",
     "output_type": "stream",
     "text": [
      "Processed 20241227_111923_1_26.png\n",
      "Processed 20241227_111923_1_34.png\n",
      "Processed 20241227_112103_1_35.png\n",
      "Processed 20241227_112002_1_18_lr_flip.png\n",
      "Processed 20241227_111923_1_26_td_flip.png\n",
      "Processed 20241227_111923_1_26_lr_flip.png\n",
      "Processed 20241227_111932_1_18_lr_flip.png\n",
      "Processed 20241227_111932_1_18_td_flip.png\n",
      "Processed 20241227_112103_1_35_td_flip.png\n",
      "Processed 20241227_111932_1_18.png\n",
      "Processed 20241227_111923_1_34_td_flip.png\n",
      "Processed 20241227_112002_1_18_td_flip.png\n",
      "Processed 20241227_112103_1_35_lr_flip.png\n",
      "Processed 20241227_112002_1_18.png\n",
      "Processed 20241227_111923_1_34_lr_flip.png\n"
     ]
    }
   ],
   "source": [
    "\n",
    "# Specify paths\n",
    "# train_folder = r\"H:\\AI-Data\\New_Rule\\taegwang\\fitting_valve\\241023 BMT_gRAND vISION_naming\\outside_anomaly\\good_mask\" \n",
    "# augmented_folder = r\"H:\\AI-Data\\New_Rule\\taegwang\\fitting_valve\\241023 BMT_gRAND vISION_naming\\outside_anomaly\\good_mask_rotate\"\n",
    "\n",
    "# Run augmentation\n",
    "augment_rotate_images(train_folder, train_folder)\n"
   ]
  },
  {
   "cell_type": "code",
   "execution_count": null,
   "metadata": {},
   "outputs": [],
   "source": []
  }
 ],
 "metadata": {
  "kernelspec": {
   "display_name": ".conda",
   "language": "python",
   "name": "python3"
  },
  "language_info": {
   "codemirror_mode": {
    "name": "ipython",
    "version": 3
   },
   "file_extension": ".py",
   "mimetype": "text/x-python",
   "name": "python",
   "nbconvert_exporter": "python",
   "pygments_lexer": "ipython3",
   "version": "3.12.7"
  }
 },
 "nbformat": 4,
 "nbformat_minor": 2
}
