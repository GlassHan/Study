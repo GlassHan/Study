{
 "cells": [
  {
   "cell_type": "code",
   "execution_count": 2,
   "metadata": {},
   "outputs": [],
   "source": [
    "# import torch\n",
    "import numpy as np\n",
    "from PIL import Image\n",
    "import cv2\n",
    "import os\n"
   ]
  },
  {
   "cell_type": "code",
   "execution_count": 10,
   "metadata": {},
   "outputs": [],
   "source": [
    "def create_black_image(img_path, output_path):\n",
    "    img=cv2.imread(img_path)\n",
    "    height, width=img.shape\n",
    "    # 검은색 이미지를 생성합니다.\n",
    "    binary_data = np.zeros((height, width), dtype=np.uint8)  # 0으로 채운 배열 생성\n",
    "    \n",
    "    # 이미지를 PIL 포맷으로 변환\n",
    "    black_image = Image.fromarray(binary_data, mode=\"L\")\n",
    "    save_path=os.path.basename(img_path)[:-4]+'_mask.png'\n",
    "    # 이미지를 저장합니다.\n",
    "    black_image.save(os.path.join(output_path,save_path))\n",
    "    print(f\"검은색 이미지가 생성되었습니다: {os.path.join(output_path,save_path)}\")"
   ]
  },
  {
   "cell_type": "code",
   "execution_count": 14,
   "metadata": {},
   "outputs": [],
   "source": [
    "image1=cv2.imread('G:/내 드라이브/Colab Notebooks/GLASS-main/datasets/MVTec/carpet/test/bad/Y1.jpg')\n",
    "image1"
   ]
  },
  {
   "cell_type": "code",
   "execution_count": 12,
   "metadata": {},
   "outputs": [
    {
     "ename": "AttributeError",
     "evalue": "'NoneType' object has no attribute 'shape'",
     "output_type": "error",
     "traceback": [
      "\u001b[1;31m---------------------------------------------------------------------------\u001b[0m",
      "\u001b[1;31mAttributeError\u001b[0m                            Traceback (most recent call last)",
      "Cell \u001b[1;32mIn[12], line 9\u001b[0m\n\u001b[0;32m      6\u001b[0m output_path\u001b[38;5;241m=\u001b[39m\u001b[38;5;124m\"\u001b[39m\u001b[38;5;124mG:/내 드라이브/Colab Notebooks/GLASS-main/datasets/MVTec/carpet/ground_truth/bad/\u001b[39m\u001b[38;5;124m\"\u001b[39m\n\u001b[0;32m      8\u001b[0m \u001b[38;5;28;01mfor\u001b[39;00m i \u001b[38;5;129;01min\u001b[39;00m image_list:\n\u001b[1;32m----> 9\u001b[0m     \u001b[43mcreate_black_image\u001b[49m\u001b[43m(\u001b[49m\u001b[43mi\u001b[49m\u001b[43m,\u001b[49m\u001b[43m \u001b[49m\u001b[43moutput_path\u001b[49m\u001b[43m)\u001b[49m\n",
      "Cell \u001b[1;32mIn[10], line 3\u001b[0m, in \u001b[0;36mcreate_black_image\u001b[1;34m(img_path, output_path)\u001b[0m\n\u001b[0;32m      1\u001b[0m \u001b[38;5;28;01mdef\u001b[39;00m \u001b[38;5;21mcreate_black_image\u001b[39m(img_path, output_path):\n\u001b[0;32m      2\u001b[0m     img\u001b[38;5;241m=\u001b[39mcv2\u001b[38;5;241m.\u001b[39mimread(img_path)\n\u001b[1;32m----> 3\u001b[0m     height, width\u001b[38;5;241m=\u001b[39m\u001b[43mimg\u001b[49m\u001b[38;5;241;43m.\u001b[39;49m\u001b[43mshape\u001b[49m\n\u001b[0;32m      4\u001b[0m     \u001b[38;5;66;03m# 검은색 이미지를 생성합니다.\u001b[39;00m\n\u001b[0;32m      5\u001b[0m     binary_data \u001b[38;5;241m=\u001b[39m np\u001b[38;5;241m.\u001b[39mzeros((height, width), dtype\u001b[38;5;241m=\u001b[39mnp\u001b[38;5;241m.\u001b[39muint8)  \u001b[38;5;66;03m# 0으로 채운 배열 생성\u001b[39;00m\n",
      "\u001b[1;31mAttributeError\u001b[0m: 'NoneType' object has no attribute 'shape'"
     ]
    }
   ],
   "source": [
    "image_path=\"G:/내 드라이브/Colab Notebooks/GLASS-main/datasets/MVTec/carpet/test/bad/\"\n",
    "image_list=os.listdir(image_path)\n",
    "image_list = [file for file in image_list if file.endswith(\".jpg\")]\n",
    "image_list=list(map(lambda x: os.path.join(image_path,x),image_list))\n",
    "\n",
    "output_path=\"G:/내 드라이브/Colab Notebooks/GLASS-main/datasets/MVTec/carpet/ground_truth/bad/\"\n",
    "\n",
    "for i in image_list:\n",
    "    create_black_image(i, output_path)\n"
   ]
  },
  {
   "cell_type": "markdown",
   "metadata": {},
   "source": []
  }
 ],
 "metadata": {
  "kernelspec": {
   "display_name": "opencv",
   "language": "python",
   "name": "python3"
  },
  "language_info": {
   "codemirror_mode": {
    "name": "ipython",
    "version": 3
   },
   "file_extension": ".py",
   "mimetype": "text/x-python",
   "name": "python",
   "nbconvert_exporter": "python",
   "pygments_lexer": "ipython3",
   "version": "3.12.0"
  }
 },
 "nbformat": 4,
 "nbformat_minor": 2
}
