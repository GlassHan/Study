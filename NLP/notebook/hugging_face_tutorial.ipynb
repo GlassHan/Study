{
 "cells": [
  {
   "cell_type": "code",
   "execution_count": null,
   "metadata": {},
   "outputs": [],
   "source": [
    "from huggingface_hub import hf_hub_download\n",
    "import joblib\n",
    "from huggingface_hub import hf_hub_download\n",
    "import pandas as pd\n",
    "from huggingface_hub import HfApi"
   ]
  },
  {
   "cell_type": "code",
   "execution_count": null,
   "metadata": {},
   "outputs": [],
   "source": [
    "#huggingface에서 모델 다운로드\n",
    "\n",
    "REPO_ID = \"YOUR_REPO_ID\"\n",
    "FILENAME = \"sklearn_model.joblib\"\n",
    "\n",
    "model = joblib.load(\n",
    "    hf_hub_download(repo_id=REPO_ID, filename=FILENAME)\n",
    ")"
   ]
  },
  {
   "cell_type": "code",
   "execution_count": null,
   "metadata": {},
   "outputs": [],
   "source": [
    "\n",
    "#huggingface에서 데이터 다운로드\n",
    "\n",
    "REPO_ID = \"YOUR_REPO_ID\"\n",
    "FILENAME = \"data.csv\"\n",
    "\n",
    "dataset = pd.read_csv(\n",
    "    hf_hub_download(repo_id=REPO_ID, filename=FILENAME, repo_type=\"dataset\")\n",
    ")"
   ]
  },
  {
   "cell_type": "code",
   "execution_count": null,
   "metadata": {},
   "outputs": [],
   "source": [
    "#upload file\n",
    "api = HfApi()\n",
    "api.upload_file(\n",
    "    path_or_fileobj=\"/path/to/local/folder/README.md\",\n",
    "    path_in_repo=\"README.md\",\n",
    "    repo_id=\"username/test-dataset\",\n",
    "    repo_type=\"dataset\",\n",
    ")"
   ]
  },
  {
   "cell_type": "code",
   "execution_count": null,
   "metadata": {},
   "outputs": [],
   "source": [
    "#upload folder\n",
    "api = HfApi()\n",
    "\n",
    "# Upload all the content from the local folder to your remote Space.\n",
    "# By default, files are uploaded at the root of the repo\n",
    "api.upload_folder(\n",
    "    folder_path=\"/path/to/local/space\",\n",
    "    repo_id=\"username/my-cool-space\",\n",
    "    repo_type=\"space\",\n",
    ")"
   ]
  }
 ],
 "metadata": {
  "kernelspec": {
   "display_name": "DL",
   "language": "python",
   "name": "python3"
  },
  "language_info": {
   "name": "python",
   "version": "3.12.0"
  }
 },
 "nbformat": 4,
 "nbformat_minor": 2
}
