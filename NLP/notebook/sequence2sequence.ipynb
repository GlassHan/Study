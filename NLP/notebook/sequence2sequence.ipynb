{
  "nbformat": 4,
  "nbformat_minor": 0,
  "metadata": {
    "colab": {
      "provenance": [],
      "gpuType": "T4"
    },
    "kernelspec": {
      "name": "python3",
      "display_name": "Python 3"
    },
    "language_info": {
      "name": "python"
    },
    "accelerator": "GPU"
  },
  "cells": [
    {
      "cell_type": "code",
      "execution_count": 3,
      "metadata": {
        "id": "TUoBnds1Of9o"
      },
      "outputs": [],
      "source": [
        "import pandas as pd\n",
        "import string"
      ]
    },
    {
      "cell_type": "code",
      "source": [
        "kor_en_df=pd.read_csv('./kor_en.csv',header=None)\n",
        "kor_en_df.columns=['english','korean']\n",
        "kor_en_df.english=kor_en_df.english.apply(lambda x: x.lower())\n",
        "kor_en_df.english=kor_en_df.english.apply(lambda x: \"\".join([s for s in x if s not in string.punctuation]) )\n",
        "kor_en_df.korean=kor_en_df.korean.apply(lambda x: \"\".join([s for s in x if s not in string.punctuation]) )\n",
        "kor_en_df.to_csv('kor_en.txt',sep='\\t',header=False,index=False)"
      ],
      "metadata": {
        "id": "o_yoCr1cWvFP"
      },
      "execution_count": 4,
      "outputs": []
    },
    {
      "cell_type": "code",
      "source": [
        "import numpy as np\n",
        "import torch\n",
        "from torch.utils.data.dataset import Dataset\n",
        "import torch.nn as nn\n",
        "import random\n",
        "import tqdm\n",
        "from torch.optim.adam import Adam"
      ],
      "metadata": {
        "id": "SXyWpsgvRs7N"
      },
      "execution_count": 5,
      "outputs": []
    },
    {
      "cell_type": "code",
      "source": [
        "\n",
        "def get_BOW(corpus):\n",
        "  BOW={\"<SOS>\":0, \"<EOS>\":1}\n",
        "\n",
        "  for line in corpus:\n",
        "    for word in line.split():\n",
        "      if word not in BOW.keys():\n",
        "        BOW[word]=len(BOW.keys())\n",
        "\n",
        "  return BOW"
      ],
      "metadata": {
        "id": "Q3ZuWO9tZtpS"
      },
      "execution_count": 6,
      "outputs": []
    },
    {
      "cell_type": "code",
      "source": [
        "eng_corpus=[]\n",
        "kor_corpus=[]\n",
        "path='./kor_en.txt'\n",
        "with open(path,encoding='utf-8') as f:\n",
        "  lines=f.read().split('\\n')\n",
        "  for line in lines:\n",
        "    txt=\"\".join(s for s in line if s not in string.punctuation).lower()\n",
        "    split_txt=txt.split('\\t')\n",
        "\n",
        "    if len(split_txt)>=2:\n",
        "      engtxt=split_txt[0]\n",
        "      kortxt=split_txt[1]\n",
        "      if (len(engtxt.split())<=10) & (len(kortxt.split())<=10) :\n",
        "        eng_corpus.append(engtxt)\n",
        "        kor_corpus.append(kortxt)\n",
        "\n",
        "    else:\n",
        "      split_word=txt.split(' ')\n",
        "      if len(split_word)>=2:\n",
        "        engtxt=split_word[0]\n",
        "        kortxt=split_word[1]\n",
        "        if (len(engtxt.split())<=10) & (len(kortxt.split())<=10) :\n",
        "          eng_corpus.append(engtxt)\n",
        "          kor_corpus.append(kortxt)\n",
        "\n",
        "      else:\n",
        "        print('something wrong')\n",
        "        print(txt)\n",
        "        continue"
      ],
      "metadata": {
        "colab": {
          "base_uri": "https://localhost:8080/"
        },
        "id": "Ij2poQyqkv6O",
        "outputId": "d73099d9-776c-49d3-c8a5-35c387891d9f"
      },
      "execution_count": 7,
      "outputs": [
        {
          "output_type": "stream",
          "name": "stdout",
          "text": [
            "something wrong\n",
            "\n"
          ]
        }
      ]
    },
    {
      "cell_type": "code",
      "source": [
        "class Eng2Kor(Dataset):\n",
        "  def __init__(self,path):\n",
        "    self.eng_corpus=[]\n",
        "    self.kor_corpus=[]\n",
        "\n",
        "    with open(path,encoding='utf-8') as f:\n",
        "      lines=f.read().split('\\n')\n",
        "      for line in lines:\n",
        "        txt=\"\".join(s for s in line if s not in string.punctuation).lower()\n",
        "        split_txt=txt.split('\\t')\n",
        "\n",
        "        if len(split_txt)>=2:\n",
        "          engtxt=split_txt[0]\n",
        "          kortxt=split_txt[1]\n",
        "          if (len(engtxt.split())<=10) & (len(kortxt.split())<=10) :\n",
        "            self.eng_corpus.append(engtxt)\n",
        "            self.kor_corpus.append(kortxt)\n",
        "\n",
        "        else:\n",
        "          split_word=txt.split(' ')\n",
        "          if len(split_word)>=2:\n",
        "            engtxt=split_word[0]\n",
        "            kortxt=split_word[1]\n",
        "            if (len(engtxt.split())<=10) & (len(kortxt.split())<=10) :\n",
        "              self.eng_corpus.append(engtxt)\n",
        "              self.kor_corpus.append(kortxt)\n",
        "\n",
        "          else:\n",
        "            continue\n",
        "\n",
        "    self.engBOW=get_BOW(self.eng_corpus)\n",
        "    self.korBOW=get_BOW(self.kor_corpus)\n",
        "\n",
        "  def gen_seq(self,line):\n",
        "    seq=line.split()\n",
        "    seq.append(\"<EOS>\")\n",
        "    return seq\n",
        "\n",
        "  def __len__(self):\n",
        "    return len(self.eng_corpus)\n",
        "\n",
        "  def __getitem__(self,i):\n",
        "    data=np.array([self.engBOW[txt] for txt in self.gen_seq(self.eng_corpus[i])])\n",
        "    label=np.array([self.korBOW[txt] for txt in self.gen_seq(self.kor_corpus[i])])\n",
        "    return data,label\n",
        "\n",
        "  def loader(dataset):\n",
        "    for i in range(len(dataset)):\n",
        "      data,label=dataset[i]\n",
        "\n",
        "      yield torch.tensor(data),torch.tensor(label)"
      ],
      "metadata": {
        "id": "5JFKdpOCOeKK"
      },
      "execution_count": 8,
      "outputs": []
    },
    {
      "cell_type": "code",
      "source": [
        "class Encoder(nn.Module):\n",
        "  def __init__(self,input_size,hidden_size):\n",
        "    super(Encoder,self).__init__()\n",
        "\n",
        "    self.embedding=nn.Embedding(input_size,hidden_size)\n",
        "    self.gru=nn.GRU(hidden_size,hidden_size)\n",
        "\n",
        "  def forward(self,x,h):\n",
        "    x=self.embedding(x).view(1,1,-1)\n",
        "    output, hidden = self.gru(x,h)\n",
        "    return output, hidden"
      ],
      "metadata": {
        "id": "Mr-zeMTFQYhg"
      },
      "execution_count": 9,
      "outputs": []
    },
    {
      "cell_type": "code",
      "source": [
        "class Decoder(nn.Module):\n",
        "  def __init__(self,hidden_size,output_size,dropout_p=0.1,max_length=11):\n",
        "    super(Decoder,self).__init__()\n",
        "\n",
        "    self.embedding=nn.Embedding(output_size,hidden_size)\n",
        "    #어텐션 가중치 계산을 위한 MLP층\n",
        "    self.attention=nn.Linear(hidden_size*2,max_length)\n",
        "    #특징 추출을 위한 MLP층\n",
        "    self.context=nn.Linear(hidden_size*2,hidden_size)\n",
        "    self.dropout=nn.Dropout(dropout_p)\n",
        "\n",
        "    #GRU\n",
        "    self.gru=nn.GRU(hidden_size,hidden_size)\n",
        "    self.out=nn.Linear(hidden_size,output_size)\n",
        "\n",
        "    self.relu=nn.ReLU()\n",
        "    self.softmax=nn.LogSoftmax(dim=1)\n",
        "\n",
        "  def forward(self, x, h, encoder_outputs):\n",
        "    x=self.embedding(x).view(1,1,-1)\n",
        "    x=self.dropout(x)\n",
        "\n",
        "    attn_weights=self.softmax(self.attention(torch.cat((x[0],h[0]),-1)))\n",
        "    attn_applied=torch.bmm(attn_weights.unsqueeze(0),encoder_outputs.unsqueeze(0))\n",
        "\n",
        "    output=torch.cat((x[0], attn_applied[0]),1)\n",
        "    output=self.context(output).unsqueeze(0)\n",
        "    output=self.relu(output)\n",
        "\n",
        "    output,hidden=self.gru(output,h)\n",
        "    output=self.out(output[0])\n",
        "\n",
        "    return output\n"
      ],
      "metadata": {
        "id": "BLHcY1XiSNfZ"
      },
      "execution_count": 10,
      "outputs": []
    },
    {
      "cell_type": "code",
      "source": [
        "device='cuda' if torch.cuda.is_available() else 'cpu'\n",
        "dataset=Eng2Kor('./kor_en.txt')\n",
        "\n",
        "encoder=Encoder(input_size=len(dataset.engBOW), hidden_size=64).to(device)\n",
        "decoder=Decoder(64, len(dataset.korBOW),dropout_p=0.1).to(device)\n",
        "\n",
        "encoder_optimizer=Adam(encoder.parameters(),lr=0.0001)\n",
        "decoder_optimizer=Adam(decoder.parameters(),lr=0.0001)\n",
        "\n",
        "for epoch in range(10):\n",
        "  iterator=tqdm.tqdm(dataset.loader(),total=len(dataset))\n",
        "  total_loss=0\n",
        "\n",
        "  for data, label in iterator:\n",
        "    data=torch.tensor(data,dtype=torch.long).to(device)\n",
        "    label=torch.tensor(label,dtype=torch.long).to(device)\n",
        "\n",
        "    #인코더의 초기 은닉 상태\n",
        "    encoder_hidden=torch.zeros(1,1,64).to(device)\n",
        "    #인코더의 모든 시점의 출력을 저장하는 변수\n",
        "    encoder_outputs=torch.zeros(11,64).to(device)\n",
        "\n",
        "    encoder_optimizer.zero_grad()\n",
        "    decoder_optimizer.zero_grad()\n",
        "\n",
        "    loss=0\n",
        "    for ei in range(len(data)):\n",
        "      encoder_output,encoder_hidden=encoder(data[ei],encoder_hidden)\n",
        "      encoder_outputs[ei]=encoder_output[0,0] #인코더의 은닉상태를 저장\n",
        "\n",
        "    decoder_input=torch.tensor([[0]]).to(device)\n",
        "\n",
        "    decoder_hidden=encoder_hidden\n",
        "\n",
        "    #티처 포싱 사용 여부를 랜덤하게 결정\n",
        "    use_teacher_forcing=True if random.random()<0.5 else False\n",
        "\n",
        "    if use_teacher_forcing:\n",
        "      for di in range(len(label)):\n",
        "        decoder_output=decoder(decoder_input,decoder_hidden,encoder_outputs)\n",
        "\n",
        "        target=torch.tensor(label[di], dtype=torch.long).to(device)\n",
        "        target=torch.unsqueeze(target,dim=0).to(device)\n",
        "        loss += nn.CrossEntropyLoss()(decoder_output,target)\n",
        "        decoder_input=target\n",
        "\n",
        "    else:\n",
        "      for di in range(len(label)):\n",
        "        decoder_output=decoder(decoder_input,decoder_hidden,encoder_outputs)\n",
        "\n",
        "        topv,topi=decoder_output.topk(1) #(값이 큰 value를 k개 value, value의 위치값 인덱스)\n",
        "        decoder_input=topi.squeeze().detach() #gradient 연산 작업에서 제외\n",
        "\n",
        "        target=torch.tensor(label[di],dtype=torch.long).to(device)\n",
        "        target=torch.unsqueeze(target,dim=0).to(device)\n",
        "        loss+=nn.CrossEntropyLoss()(decoder_output,target)\n",
        "\n",
        "        if decoder_input.item()==1:\n",
        "          break\n",
        "\n",
        "    total_loss+=loss.item()/len(dataset)\n",
        "    iterator.set_description(f'epoch:{epoch+1} loss:{total_loss}')\n",
        "    loss.backward()\n",
        "\n",
        "    encoder_optimizer.step()\n",
        "    decoder_optimizer.step()\n",
        "  torch.save(encoder.state_dict(),'attn_enc.pth')\n",
        "  torch.save(decoder.state_dict(),'attn_dec.pth')"
      ],
      "metadata": {
        "colab": {
          "base_uri": "https://localhost:8080/"
        },
        "id": "AiIy5gstW9Tj",
        "outputId": "9de6a3e3-3320-41ef-be6e-0fa6cba3ec47"
      },
      "execution_count": 11,
      "outputs": [
        {
          "output_type": "stream",
          "name": "stderr",
          "text": [
            "\r  0%|          | 0/5701 [00:00<?, ?it/s]<ipython-input-11-334a5207a418>:15: UserWarning: To copy construct from a tensor, it is recommended to use sourceTensor.clone().detach() or sourceTensor.clone().detach().requires_grad_(True), rather than torch.tensor(sourceTensor).\n",
            "  data=torch.tensor(data,dtype=torch.long).to(device)\n",
            "<ipython-input-11-334a5207a418>:16: UserWarning: To copy construct from a tensor, it is recommended to use sourceTensor.clone().detach() or sourceTensor.clone().detach().requires_grad_(True), rather than torch.tensor(sourceTensor).\n",
            "  label=torch.tensor(label,dtype=torch.long).to(device)\n",
            "<ipython-input-11-334a5207a418>:54: UserWarning: To copy construct from a tensor, it is recommended to use sourceTensor.clone().detach() or sourceTensor.clone().detach().requires_grad_(True), rather than torch.tensor(sourceTensor).\n",
            "  target=torch.tensor(label[di],dtype=torch.long).to(device)\n",
            "epoch:1 loss:0.003116619710315008:   0%|          | 1/5701 [00:01<2:17:58,  1.45s/it]<ipython-input-11-334a5207a418>:42: UserWarning: To copy construct from a tensor, it is recommended to use sourceTensor.clone().detach() or sourceTensor.clone().detach().requires_grad_(True), rather than torch.tensor(sourceTensor).\n",
            "  target=torch.tensor(label[di], dtype=torch.long).to(device)\n",
            "epoch:1 loss:24.071895488290018: 100%|██████████| 5701/5701 [01:42<00:00, 55.49it/s]\n",
            "epoch:2 loss:23.325155179723506: 100%|██████████| 5701/5701 [01:42<00:00, 55.55it/s]\n",
            "epoch:3 loss:22.117154301059678: 100%|██████████| 5701/5701 [01:42<00:00, 55.80it/s]\n",
            "epoch:4 loss:21.727162764838166: 100%|██████████| 5701/5701 [01:43<00:00, 55.23it/s]\n",
            "epoch:5 loss:21.497411229446847: 100%|██████████| 5701/5701 [01:43<00:00, 55.30it/s]\n",
            "epoch:6 loss:21.508674450201717: 100%|██████████| 5701/5701 [01:44<00:00, 54.68it/s]\n",
            "epoch:7 loss:21.451906825257787: 100%|██████████| 5701/5701 [01:44<00:00, 54.64it/s]\n",
            "epoch:8 loss:21.353201543295825: 100%|██████████| 5701/5701 [01:44<00:00, 54.59it/s]\n",
            "epoch:9 loss:21.251033172547107: 100%|██████████| 5701/5701 [01:45<00:00, 54.02it/s]\n",
            "epoch:10 loss:20.86806745931489: 100%|██████████| 5701/5701 [01:45<00:00, 53.94it/s]\n"
          ]
        }
      ]
    },
    {
      "cell_type": "code",
      "source": [
        "encoder.load_state_dict(torch.load('attn_enc.pth',map_location=device))\n",
        "decoder.load_state_dict(torch.load('attn_dec.pth',map_location=device))\n",
        "idx=random.randint(0,len(dataset))\n",
        "print(len(dataset))\n",
        "print(idx)\n",
        "input_sentence=dataset.eng_corpus[idx]\n",
        "pred_sentence=\"\"\n",
        "\n",
        "data,label=dataset[idx]\n",
        "data=torch.tensor(data,dtype=torch.long).to(device)\n",
        "label=torch.tensor(label,dtype=torch.long).to(device)\n",
        "\n",
        "encoder_hidden=torch.zeros(1,1,64).to(device)\n",
        "encoder_outputs=torch.zeros(11,64).to(device)\n",
        "\n",
        "for ei in range(len(data)):\n",
        "  encoder_output,encoder_hidden=encoder(data[ei],encoder_hidden)\n",
        "  encoder_outputs[ei]=encoder_output[0,0]\n",
        "\n",
        "decoder_intput=torch.tensor([[0]]).to(device)\n",
        "decoder_hidden=encoder_hidden\n",
        "\n",
        "for di in range(11):\n",
        "  decoder_output=decoder(decoder_input, decoder_hidden, encoder_outputs)\n",
        "  topv, topi=decoder_output.topk(1)\n",
        "  decoder_input=topi.squeeze().detach()\n",
        "\n",
        "  if decoder_input.item()==1:\n",
        "    break\n",
        "\n",
        "  pred_sentence += list(dataset.korBOW.keys())[decoder_input] + \" \"\n",
        "\n",
        "print(input_sentence)\n",
        "print(pred_sentence)\n"
      ],
      "metadata": {
        "id": "fOCpQ6Rdb_nN",
        "colab": {
          "base_uri": "https://localhost:8080/"
        },
        "outputId": "b0c3a4a7-579f-4410-fb2c-261b04d581ee"
      },
      "execution_count": 12,
      "outputs": [
        {
          "output_type": "stream",
          "name": "stderr",
          "text": [
            "<ipython-input-12-ec365707ca5d>:1: FutureWarning: You are using `torch.load` with `weights_only=False` (the current default value), which uses the default pickle module implicitly. It is possible to construct malicious pickle data which will execute arbitrary code during unpickling (See https://github.com/pytorch/pytorch/blob/main/SECURITY.md#untrusted-models for more details). In a future release, the default value for `weights_only` will be flipped to `True`. This limits the functions that could be executed during unpickling. Arbitrary objects will no longer be allowed to be loaded via this mode unless they are explicitly allowlisted by the user via `torch.serialization.add_safe_globals`. We recommend you start setting `weights_only=True` for any use case where you don't have full control of the loaded file. Please open an issue on GitHub for any issues related to this experimental feature.\n",
            "  encoder.load_state_dict(torch.load('attn_enc.pth',map_location=device))\n"
          ]
        },
        {
          "output_type": "stream",
          "name": "stdout",
          "text": [
            "5701\n",
            "1447\n",
            "whatre you doing\n",
            "\n"
          ]
        },
        {
          "output_type": "stream",
          "name": "stderr",
          "text": [
            "<ipython-input-12-ec365707ca5d>:2: FutureWarning: You are using `torch.load` with `weights_only=False` (the current default value), which uses the default pickle module implicitly. It is possible to construct malicious pickle data which will execute arbitrary code during unpickling (See https://github.com/pytorch/pytorch/blob/main/SECURITY.md#untrusted-models for more details). In a future release, the default value for `weights_only` will be flipped to `True`. This limits the functions that could be executed during unpickling. Arbitrary objects will no longer be allowed to be loaded via this mode unless they are explicitly allowlisted by the user via `torch.serialization.add_safe_globals`. We recommend you start setting `weights_only=True` for any use case where you don't have full control of the loaded file. Please open an issue on GitHub for any issues related to this experimental feature.\n",
            "  decoder.load_state_dict(torch.load('attn_dec.pth',map_location=device))\n"
          ]
        }
      ]
    },
    {
      "cell_type": "code",
      "source": [],
      "metadata": {
        "id": "GkelquQKfdP2"
      },
      "execution_count": 12,
      "outputs": []
    }
  ]
}