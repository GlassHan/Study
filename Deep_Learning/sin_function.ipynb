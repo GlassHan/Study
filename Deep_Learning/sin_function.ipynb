import math
import torch
import matplotlib.