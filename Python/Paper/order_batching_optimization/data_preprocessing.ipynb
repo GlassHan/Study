{
 "cells": [
  {
   "cell_type": "code",
   "execution_count": 68,
   "metadata": {},
   "outputs": [],
   "source": [
    "import pandas as pd\n",
    "import numpy as np\n",
    "import os\n",
    "import warnings\n",
    "warnings.filterwarnings('ignore')\n",
    "pd.options.display.max_rows = 9999\n"
   ]
  },
  {
   "cell_type": "code",
   "execution_count": 67,
   "metadata": {},
   "outputs": [],
   "source": [
    "#24subailes로 모든 order처리 가능\n",
    "file_list=os.listdir('./dataset/Orderlinelist')\n",
    "for f in file_list:\n",
    "    orderlinelist=pd.read_csv('./dataset/Orderlinelist/'+f,delimiter='\\t',header=None,engine='python')\n",
    "    orderlinelist.columns=orderlinelist_column\n",
    "    if orderlinelist['LocationID'].max()>2881:\n",
    "        print(f)\n",
    "    "
   ]
  },
  {
   "cell_type": "code",
   "execution_count": null,
   "metadata": {},
   "outputs": [],
   "source": [
    "path='./dataset'\n",
    "\n",
    "dist_matrix=pd.read_csv(path+'/Distance matrix/DistanceMatrix_24SubAisles.txt',delimiter='\\t',header=None,engine='python')\n",
    "dist_matrix=dist_matrix.loc[:,:2880]\n",
    "\n",
    "#orderlist\n",
    "orderlist_clolumn=['OrderID', 'NumberOfOrderLines', 'ReleaseTime', 'DueTime' ,'FirstOrderLineID']\n",
    "\n",
    "#orderline\n",
    "orderlinelist_column=['OrderID', 'OrderLineID', 'AisleID' ,'CellID', 'LevelID', 'LocationID']\n",
    "\n",
    "\n",
    "orderlist=pd.read_csv(path+'/Orderlist/OrderList_LargeProblems_1_21.txt',delimiter='\\t',header=None,engine='python')\n",
    "orderlist.columns=orderlist_clolumn\n",
    "\n",
    "\n",
    "orderlinelist=pd.read_csv(path+'/Orderlinelist/OrderLineList_LargeProblems_1_21.txt',delimiter='\\t',header=None,engine='python')\n",
    "orderlinelist.columns=orderlinelist_column\n",
    "\n"
   ]
  },
  {
   "cell_type": "code",
   "execution_count": 86,
   "metadata": {},
   "outputs": [
    {
     "name": "stdout",
     "output_type": "stream",
     "text": [
      "distance matrix size: (2881, 2881)\n",
      "orderlist size: ( 595 , 5 )\n",
      "orderlinelist size: ( 2484 , 6 )\n",
      "\n",
      "@ orderlist info @\n",
      "<class 'pandas.core.frame.DataFrame'>\n",
      "RangeIndex: 595 entries, 0 to 594\n",
      "Data columns (total 5 columns):\n",
      " #   Column              Non-Null Count  Dtype\n",
      "---  ------              --------------  -----\n",
      " 0   OrderID             595 non-null    int64\n",
      " 1   NumberOfOrderLines  595 non-null    int64\n",
      " 2   ReleaseTime         595 non-null    int64\n",
      " 3   DueTime             595 non-null    int64\n",
      " 4   FirstOrderLineID    595 non-null    int64\n",
      "dtypes: int64(5)\n",
      "memory usage: 23.4 KB\n"
     ]
    },
    {
     "data": {
      "text/plain": [
       "None"
      ]
     },
     "metadata": {},
     "output_type": "display_data"
    },
    {
     "name": "stdout",
     "output_type": "stream",
     "text": [
      "@ orderlinelist info @\n",
      "<class 'pandas.core.frame.DataFrame'>\n",
      "RangeIndex: 2484 entries, 0 to 2483\n",
      "Data columns (total 6 columns):\n",
      " #   Column       Non-Null Count  Dtype\n",
      "---  ------       --------------  -----\n",
      " 0   OrderID      2484 non-null   int64\n",
      " 1   OrderLineID  2484 non-null   int64\n",
      " 2   AisleID      2484 non-null   int64\n",
      " 3   CellID       2484 non-null   int64\n",
      " 4   LevelID      2484 non-null   int64\n",
      " 5   LocationID   2484 non-null   int64\n",
      "dtypes: int64(6)\n",
      "memory usage: 116.6 KB\n"
     ]
    },
    {
     "data": {
      "text/plain": [
       "None"
      ]
     },
     "metadata": {},
     "output_type": "display_data"
    }
   ],
   "source": [
    "print('distance matrix size:',dist_matrix.to_numpy().shape)\n",
    "print('orderlist size:','(',len(orderlist),',',len(orderlist.columns),')')\n",
    "print('orderlinelist size:','(',len(orderlinelist),',',len(orderlinelist.columns),')',end='\\n\\n')\n",
    "\n",
    "print('@ orderlist info @')\n",
    "display(orderlist.info())\n",
    "print('@ orderlinelist info @')\n",
    "display(orderlinelist.info())\n"
   ]
  },
  {
   "cell_type": "code",
   "execution_count": null,
   "metadata": {},
   "outputs": [],
   "source": []
  }
 ],
 "metadata": {
  "kernelspec": {
   "display_name": "env_3.12",
   "language": "python",
   "name": "python3"
  },
  "language_info": {
   "codemirror_mode": {
    "name": "ipython",
    "version": 3
   },
   "file_extension": ".py",
   "mimetype": "text/x-python",
   "name": "python",
   "nbconvert_exporter": "python",
   "pygments_lexer": "ipython3",
   "version": "3.12.0"
  }
 },
 "nbformat": 4,
 "nbformat_minor": 2
}
